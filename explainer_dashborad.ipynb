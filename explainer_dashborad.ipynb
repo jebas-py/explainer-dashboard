{
 "cells": [
  {
   "cell_type": "markdown",
   "id": "attached-coach",
   "metadata": {},
   "source": [
    "## Libraries and versions"
   ]
  },
  {
   "cell_type": "markdown",
   "id": "hungarian-watershed",
   "metadata": {},
   "source": [
    "### Libraries"
   ]
  },
  {
   "cell_type": "code",
   "execution_count": 1,
   "id": "affiliated-platform",
   "metadata": {},
   "outputs": [],
   "source": [
    "python_version = !Python -V #version 3.7.9\n",
    "import pandas as pd #version 1.2.3\n",
    "import numpy as np #version 1.19.2\n",
    "\n",
    "\n",
    "#for machine learning models\n",
    "#pre processing\n",
    "from category_encoders import OneHotEncoder, __version__ as ce_version #version 2.2.2\n",
    "\n",
    "#split data in train and test\n",
    "#version\n",
    "from sklearn import __version__ as sk_version #version 0.24.1\n",
    "\n",
    "#pre-processing\n",
    "from sklearn.model_selection import train_test_split\n",
    "\n",
    "#classificators\n",
    "from sklearn.tree import DecisionTreeClassifier\n",
    "\n",
    "#metrics\n",
    "from sklearn.metrics import accuracy_score\n",
    "\n",
    "#explainer_dashboard\n",
    "from explainerdashboard import ClassifierExplainer, ExplainerDashboard"
   ]
  },
  {
   "cell_type": "markdown",
   "id": "meaning-fiction",
   "metadata": {},
   "source": [
    "### Versions"
   ]
  },
  {
   "cell_type": "code",
   "execution_count": 2,
   "id": "military-motor",
   "metadata": {},
   "outputs": [
    {
     "name": "stdout",
     "output_type": "stream",
     "text": [
      "Python 3.7.9\n",
      "Pandas version: 1.2.4\n",
      "Numpy version: 1.20.1\n",
      "Category Encoders version: 2.2.2\n",
      "Sklearn version: 0.24.1\n"
     ]
    }
   ],
   "source": [
    "print(f'{python_version[0]}')\n",
    "print(f'Pandas version: {pd.__version__}')\n",
    "print(f'Numpy version: {np.__version__}')\n",
    "print(f'Category Encoders version: {ce_version}')\n",
    "print(f'Sklearn version: {sk_version}')"
   ]
  },
  {
   "cell_type": "markdown",
   "id": "known-dinner",
   "metadata": {},
   "source": [
    "## Configurations"
   ]
  },
  {
   "cell_type": "code",
   "execution_count": 3,
   "id": "crucial-society",
   "metadata": {},
   "outputs": [],
   "source": [
    "import warnings\n",
    "warnings.filterwarnings(\"ignore\")"
   ]
  },
  {
   "cell_type": "markdown",
   "id": "multiple-picking",
   "metadata": {},
   "source": [
    "## Dataset"
   ]
  },
  {
   "cell_type": "code",
   "execution_count": 4,
   "id": "norman-skirt",
   "metadata": {},
   "outputs": [],
   "source": [
    "dataset = pd.read_csv('train_cleaning_model7.csv')"
   ]
  },
  {
   "cell_type": "code",
   "execution_count": 5,
   "id": "mature-abraham",
   "metadata": {},
   "outputs": [
    {
     "data": {
      "text/html": [
       "<div>\n",
       "<style scoped>\n",
       "    .dataframe tbody tr th:only-of-type {\n",
       "        vertical-align: middle;\n",
       "    }\n",
       "\n",
       "    .dataframe tbody tr th {\n",
       "        vertical-align: top;\n",
       "    }\n",
       "\n",
       "    .dataframe thead th {\n",
       "        text-align: right;\n",
       "    }\n",
       "</style>\n",
       "<table border=\"1\" class=\"dataframe\">\n",
       "  <thead>\n",
       "    <tr style=\"text-align: right;\">\n",
       "      <th></th>\n",
       "      <th>ID</th>\n",
       "      <th>Gender</th>\n",
       "      <th>Ever_Married</th>\n",
       "      <th>Age</th>\n",
       "      <th>Graduated</th>\n",
       "      <th>Profession</th>\n",
       "      <th>Work_Experience</th>\n",
       "      <th>Spending_Score</th>\n",
       "      <th>Family_Size</th>\n",
       "      <th>Var_1</th>\n",
       "      <th>Segmentation</th>\n",
       "      <th>age_categories</th>\n",
       "    </tr>\n",
       "  </thead>\n",
       "  <tbody>\n",
       "    <tr>\n",
       "      <th>0</th>\n",
       "      <td>462809</td>\n",
       "      <td>Male</td>\n",
       "      <td>No</td>\n",
       "      <td>22</td>\n",
       "      <td>No</td>\n",
       "      <td>Healthcare</td>\n",
       "      <td>1.0</td>\n",
       "      <td>Low</td>\n",
       "      <td>4.0</td>\n",
       "      <td>Cat_4</td>\n",
       "      <td>D</td>\n",
       "      <td>18-25</td>\n",
       "    </tr>\n",
       "    <tr>\n",
       "      <th>1</th>\n",
       "      <td>462643</td>\n",
       "      <td>Female</td>\n",
       "      <td>Yes</td>\n",
       "      <td>38</td>\n",
       "      <td>Yes</td>\n",
       "      <td>Engineer</td>\n",
       "      <td>1.0</td>\n",
       "      <td>Average</td>\n",
       "      <td>3.0</td>\n",
       "      <td>Cat_4</td>\n",
       "      <td>A</td>\n",
       "      <td>36-40</td>\n",
       "    </tr>\n",
       "    <tr>\n",
       "      <th>2</th>\n",
       "      <td>466315</td>\n",
       "      <td>Female</td>\n",
       "      <td>Yes</td>\n",
       "      <td>67</td>\n",
       "      <td>Yes</td>\n",
       "      <td>Engineer</td>\n",
       "      <td>1.0</td>\n",
       "      <td>Low</td>\n",
       "      <td>1.0</td>\n",
       "      <td>Cat_6</td>\n",
       "      <td>B</td>\n",
       "      <td>66-70</td>\n",
       "    </tr>\n",
       "    <tr>\n",
       "      <th>3</th>\n",
       "      <td>461735</td>\n",
       "      <td>Male</td>\n",
       "      <td>Yes</td>\n",
       "      <td>67</td>\n",
       "      <td>Yes</td>\n",
       "      <td>Lawyer</td>\n",
       "      <td>0.0</td>\n",
       "      <td>High</td>\n",
       "      <td>2.0</td>\n",
       "      <td>Cat_6</td>\n",
       "      <td>B</td>\n",
       "      <td>66-70</td>\n",
       "    </tr>\n",
       "    <tr>\n",
       "      <th>4</th>\n",
       "      <td>462669</td>\n",
       "      <td>Female</td>\n",
       "      <td>Yes</td>\n",
       "      <td>40</td>\n",
       "      <td>Yes</td>\n",
       "      <td>Entertainment</td>\n",
       "      <td>1.0</td>\n",
       "      <td>High</td>\n",
       "      <td>6.0</td>\n",
       "      <td>Cat_6</td>\n",
       "      <td>A</td>\n",
       "      <td>36-40</td>\n",
       "    </tr>\n",
       "  </tbody>\n",
       "</table>\n",
       "</div>"
      ],
      "text/plain": [
       "       ID  Gender Ever_Married  Age Graduated     Profession  Work_Experience  \\\n",
       "0  462809    Male           No   22        No     Healthcare              1.0   \n",
       "1  462643  Female          Yes   38       Yes       Engineer              1.0   \n",
       "2  466315  Female          Yes   67       Yes       Engineer              1.0   \n",
       "3  461735    Male          Yes   67       Yes         Lawyer              0.0   \n",
       "4  462669  Female          Yes   40       Yes  Entertainment              1.0   \n",
       "\n",
       "  Spending_Score  Family_Size  Var_1 Segmentation age_categories  \n",
       "0            Low          4.0  Cat_4            D          18-25  \n",
       "1        Average          3.0  Cat_4            A          36-40  \n",
       "2            Low          1.0  Cat_6            B          66-70  \n",
       "3           High          2.0  Cat_6            B          66-70  \n",
       "4           High          6.0  Cat_6            A          36-40  "
      ]
     },
     "execution_count": 5,
     "metadata": {},
     "output_type": "execute_result"
    }
   ],
   "source": [
    "dataset.head()"
   ]
  },
  {
   "cell_type": "markdown",
   "id": "tested-preview",
   "metadata": {},
   "source": [
    "# Dataset transformation"
   ]
  },
  {
   "cell_type": "markdown",
   "id": "double-newsletter",
   "metadata": {},
   "source": [
    "## Encoders"
   ]
  },
  {
   "cell_type": "markdown",
   "id": "talented-inspection",
   "metadata": {},
   "source": [
    "### OneHotEncoder"
   ]
  },
  {
   "cell_type": "code",
   "execution_count": 6,
   "id": "czech-handle",
   "metadata": {},
   "outputs": [],
   "source": [
    "#OneHotEncoder\n",
    "encoder = OneHotEncoder(cols=['Ever_Married', 'Graduated', 'Profession', 'Spending_Score'],\n",
    "                       use_cat_names=True)\n",
    "dataset_onehorencoder = encoder.fit_transform(dataset)\n",
    "\n",
    "#map column Segmentation and transform for numeric variables\n",
    "map_segmentation = {'A':0, 'B':1, 'C':2, 'D':3}\n",
    "dataset_onehorencoder['Segmentation'] = dataset_onehorencoder['Segmentation'].map(map_segmentation)\n",
    "\n",
    "#drop non used columns ID, Gender and Family_Size\n",
    "dataset_onehorencoder.drop(columns=['ID','Gender', 'Family_Size', 'age_categories', 'Var_1'], inplace=True)"
   ]
  },
  {
   "cell_type": "markdown",
   "id": "elementary-irish",
   "metadata": {},
   "source": [
    "## Variables"
   ]
  },
  {
   "cell_type": "markdown",
   "id": "acknowledged-prescription",
   "metadata": {},
   "source": [
    "### OneHotEncoder"
   ]
  },
  {
   "cell_type": "code",
   "execution_count": 7,
   "id": "signed-period",
   "metadata": {},
   "outputs": [],
   "source": [
    "#selection of all variables, except Segmentation\n",
    "X_onehotencoder = dataset_onehorencoder.loc[:, dataset_onehorencoder.columns != 'Segmentation']\n",
    "y_onehotencoder = dataset_onehorencoder['Segmentation']"
   ]
  },
  {
   "cell_type": "code",
   "execution_count": 8,
   "id": "thick-receiver",
   "metadata": {
    "scrolled": true
   },
   "outputs": [
    {
     "name": "stdout",
     "output_type": "stream",
     "text": [
      "ACCURACY FOR 50 ITERATIONS\n",
      "Max = 0.5411\n",
      "Mean = 0.5231\n",
      "Min = 0.5085\n",
      "Std = 0.0083\n",
      "DecisionTreeClassifier(class_weight={0: 0.24, 1: 0.23, 2: 0.24, 3: 0.27},\n",
      "                       criterion='entropy', max_depth=5, min_samples_leaf=30)\n"
     ]
    }
   ],
   "source": [
    "#first - split train and test data\n",
    "accuracy_list = []\n",
    "iterations = 50\n",
    "for iter in range(0, iterations):\n",
    "    X_train, X_test, y_train, y_test = train_test_split(X_onehotencoder, y_onehotencoder, train_size=0.7,\n",
    "                                                        stratify=y_onehotencoder)\n",
    "\n",
    "    #third - macinhe learning apply\n",
    "    model7_1 = DecisionTreeClassifier(max_depth=5,\n",
    "                                      min_samples_leaf=30,\n",
    "                                      criterion='entropy',\n",
    "                                      class_weight={0:0.24, 1:0.23, 2:0.24, 3:0.27})\n",
    "    model7_1.fit(X_train, y_train)\n",
    "    y_predict = model7_1.predict(X_test)\n",
    "\n",
    "    #fourth - test accuray\n",
    "    accuracy = accuracy_score(y_test, y_predict)\n",
    "    accuracy_list.append(accuracy)\n",
    "\n",
    "max_accuracy = np.asarray(accuracy_list).max()\n",
    "mean_accuracy = np.asarray(accuracy_list).mean()\n",
    "min_accuracy = np.asarray(accuracy_list).min()\n",
    "std_accuracy = np.asarray(accuracy_list).std()\n",
    "print(f'ACCURACY FOR {iterations} ITERATIONS')\n",
    "print(f'Max = {max_accuracy:.4f}\\nMean = {mean_accuracy:.4f}\\nMin = {min_accuracy:.4f}\\nStd = {std_accuracy:.4f}')\n",
    "print(model7_1.set_params())"
   ]
  },
  {
   "cell_type": "code",
   "execution_count": 9,
   "id": "monetary-wireless",
   "metadata": {},
   "outputs": [],
   "source": [
    "#create DataFrame with errors\n",
    "dict_compare = {'Real':y_test.values, 'Predict':y_predict}\n",
    "dataset_error = pd.DataFrame(dict_compare, index=y_test.index)\n",
    "dataset_error['Error'] = dataset_error['Real'] !=dataset_error['Predict']\n",
    "dataset_error['Cat_Real'] = dataset_error['Real'].map({0:'A', 1:'B', 2:'C', 3:'D'})\n",
    "dataset_error['Cat_Predict'] = dataset_error['Predict'].map({0:'A', 1:'B', 2:'C', 3:'D'})"
   ]
  },
  {
   "cell_type": "code",
   "execution_count": 10,
   "id": "other-jesus",
   "metadata": {},
   "outputs": [
    {
     "name": "stdout",
     "output_type": "stream",
     "text": [
      "Percent of Error for each Segmentation\n"
     ]
    },
    {
     "data": {
      "text/html": [
       "<div>\n",
       "<style scoped>\n",
       "    .dataframe tbody tr th:only-of-type {\n",
       "        vertical-align: middle;\n",
       "    }\n",
       "\n",
       "    .dataframe tbody tr th {\n",
       "        vertical-align: top;\n",
       "    }\n",
       "\n",
       "    .dataframe thead th {\n",
       "        text-align: right;\n",
       "    }\n",
       "</style>\n",
       "<table border=\"1\" class=\"dataframe\">\n",
       "  <thead>\n",
       "    <tr style=\"text-align: right;\">\n",
       "      <th>Error</th>\n",
       "      <th>False</th>\n",
       "      <th>True</th>\n",
       "    </tr>\n",
       "    <tr>\n",
       "      <th>Cat_Real</th>\n",
       "      <th></th>\n",
       "      <th></th>\n",
       "    </tr>\n",
       "  </thead>\n",
       "  <tbody>\n",
       "    <tr>\n",
       "      <th>A</th>\n",
       "      <td>0.471429</td>\n",
       "      <td>0.528571</td>\n",
       "    </tr>\n",
       "    <tr>\n",
       "      <th>B</th>\n",
       "      <td>0.292135</td>\n",
       "      <td>0.707865</td>\n",
       "    </tr>\n",
       "    <tr>\n",
       "      <th>C</th>\n",
       "      <td>0.528998</td>\n",
       "      <td>0.471002</td>\n",
       "    </tr>\n",
       "    <tr>\n",
       "      <th>D</th>\n",
       "      <td>0.714734</td>\n",
       "      <td>0.285266</td>\n",
       "    </tr>\n",
       "  </tbody>\n",
       "</table>\n",
       "</div>"
      ],
      "text/plain": [
       "Error        False     True \n",
       "Cat_Real                    \n",
       "A         0.471429  0.528571\n",
       "B         0.292135  0.707865\n",
       "C         0.528998  0.471002\n",
       "D         0.714734  0.285266"
      ]
     },
     "execution_count": 10,
     "metadata": {},
     "output_type": "execute_result"
    }
   ],
   "source": [
    "print('Percent of Error for each Segmentation')\n",
    "pd.crosstab(index=dataset_error['Cat_Real'], columns=dataset_error['Error'], normalize='index')"
   ]
  },
  {
   "cell_type": "code",
   "execution_count": 11,
   "id": "apparent-christianity",
   "metadata": {
    "scrolled": true
   },
   "outputs": [
    {
     "data": {
      "text/html": [
       "<div>\n",
       "<style scoped>\n",
       "    .dataframe tbody tr th:only-of-type {\n",
       "        vertical-align: middle;\n",
       "    }\n",
       "\n",
       "    .dataframe tbody tr th {\n",
       "        vertical-align: top;\n",
       "    }\n",
       "\n",
       "    .dataframe thead th {\n",
       "        text-align: right;\n",
       "    }\n",
       "</style>\n",
       "<table border=\"1\" class=\"dataframe\">\n",
       "  <thead>\n",
       "    <tr style=\"text-align: right;\">\n",
       "      <th></th>\n",
       "      <th>Importance</th>\n",
       "    </tr>\n",
       "  </thead>\n",
       "  <tbody>\n",
       "    <tr>\n",
       "      <th>Age</th>\n",
       "      <td>0.508193</td>\n",
       "    </tr>\n",
       "    <tr>\n",
       "      <th>Spending_Score_Low</th>\n",
       "      <td>0.184064</td>\n",
       "    </tr>\n",
       "    <tr>\n",
       "      <th>Profession_Artist</th>\n",
       "      <td>0.161188</td>\n",
       "    </tr>\n",
       "    <tr>\n",
       "      <th>Profession_Healthcare</th>\n",
       "      <td>0.066269</td>\n",
       "    </tr>\n",
       "    <tr>\n",
       "      <th>Graduated_No</th>\n",
       "      <td>0.036271</td>\n",
       "    </tr>\n",
       "    <tr>\n",
       "      <th>Profession_Entertainment</th>\n",
       "      <td>0.013539</td>\n",
       "    </tr>\n",
       "    <tr>\n",
       "      <th>Profession_Marketing</th>\n",
       "      <td>0.010563</td>\n",
       "    </tr>\n",
       "    <tr>\n",
       "      <th>Work_Experience</th>\n",
       "      <td>0.009385</td>\n",
       "    </tr>\n",
       "    <tr>\n",
       "      <th>Spending_Score_Average</th>\n",
       "      <td>0.004493</td>\n",
       "    </tr>\n",
       "    <tr>\n",
       "      <th>Ever_Married_Yes</th>\n",
       "      <td>0.003912</td>\n",
       "    </tr>\n",
       "    <tr>\n",
       "      <th>Ever_Married_No</th>\n",
       "      <td>0.002124</td>\n",
       "    </tr>\n",
       "    <tr>\n",
       "      <th>Profession_Doctor</th>\n",
       "      <td>0.000000</td>\n",
       "    </tr>\n",
       "    <tr>\n",
       "      <th>Profession_Homemaker</th>\n",
       "      <td>0.000000</td>\n",
       "    </tr>\n",
       "    <tr>\n",
       "      <th>Profession_Executive</th>\n",
       "      <td>0.000000</td>\n",
       "    </tr>\n",
       "    <tr>\n",
       "      <th>Profession_Lawyer</th>\n",
       "      <td>0.000000</td>\n",
       "    </tr>\n",
       "    <tr>\n",
       "      <th>Profession_Engineer</th>\n",
       "      <td>0.000000</td>\n",
       "    </tr>\n",
       "    <tr>\n",
       "      <th>Graduated_Yes</th>\n",
       "      <td>0.000000</td>\n",
       "    </tr>\n",
       "    <tr>\n",
       "      <th>Spending_Score_High</th>\n",
       "      <td>0.000000</td>\n",
       "    </tr>\n",
       "  </tbody>\n",
       "</table>\n",
       "</div>"
      ],
      "text/plain": [
       "                          Importance\n",
       "Age                         0.508193\n",
       "Spending_Score_Low          0.184064\n",
       "Profession_Artist           0.161188\n",
       "Profession_Healthcare       0.066269\n",
       "Graduated_No                0.036271\n",
       "Profession_Entertainment    0.013539\n",
       "Profession_Marketing        0.010563\n",
       "Work_Experience             0.009385\n",
       "Spending_Score_Average      0.004493\n",
       "Ever_Married_Yes            0.003912\n",
       "Ever_Married_No             0.002124\n",
       "Profession_Doctor           0.000000\n",
       "Profession_Homemaker        0.000000\n",
       "Profession_Executive        0.000000\n",
       "Profession_Lawyer           0.000000\n",
       "Profession_Engineer         0.000000\n",
       "Graduated_Yes               0.000000\n",
       "Spending_Score_High         0.000000"
      ]
     },
     "execution_count": 11,
     "metadata": {},
     "output_type": "execute_result"
    }
   ],
   "source": [
    "importance = model7_1.feature_importances_\n",
    "pd.DataFrame(data={'Importance':importance}, index=X_onehotencoder.columns).sort_values('Importance', ascending=False)"
   ]
  },
  {
   "cell_type": "markdown",
   "id": "ead6c4ac",
   "metadata": {},
   "source": [
    "## Explainer Dashboard"
   ]
  },
  {
   "cell_type": "code",
   "execution_count": 12,
   "id": "10cb165b",
   "metadata": {},
   "outputs": [
    {
     "name": "stdout",
     "output_type": "stream",
     "text": [
      "Note: model_output=='probability', so assuming that raw shap output of DecisionTreeClassifier is in probability space...\n",
      "Generating self.shap_explainer = shap.TreeExplainer(model)\n"
     ]
    }
   ],
   "source": [
    "explainer = ClassifierExplainer(model7_1, X_train, y_train)"
   ]
  },
  {
   "cell_type": "code",
   "execution_count": 13,
   "id": "8bddca20",
   "metadata": {},
   "outputs": [
    {
     "name": "stdout",
     "output_type": "stream",
     "text": [
      "Building ExplainerDashboard..\n",
      "Detected notebook environment, consider setting mode='external', mode='inline' or mode='jupyterlab' to keep the notebook interactive while the dashboard is running...\n",
      "The explainer object has no decision_trees property. so setting decision_trees=False...\n",
      "Warning: calculating shap interaction values can be slow! Pass shap_interaction=False to remove interactions tab.\n",
      "Generating layout...\n",
      "Calculating shap values...\n",
      "Calculating dependencies...\n",
      "Calculating permutation importances (if slow, try setting n_jobs parameter)...\n",
      "Calculating roc auc curves...\n",
      "Calculating prediction probabilities...\n",
      "Calculating liftcurve_dfs...\n",
      "Calculating predictions...\n",
      "Calculating confusion matrices...\n",
      "Calculating classification_dfs...\n",
      "Calculating pred_percentiles...\n",
      "Calculating pr auc curves...\n",
      "Calculating metrics...\n",
      "Calculating shap interaction values... (this may take a while)\n",
      "Reminder: TreeShap computational complexity is O(TLD^2), where T is the number of trees, L is the maximum number of leaves in any tree and D the maximal depth of any tree. So reducing these will speed up the calculation.\n",
      "Reminder: you can store the explainer (including calculated dependencies) with explainer.dump('explainer.joblib') and reload with e.g. ClassifierExplainer.from_file('explainer.joblib')\n",
      "Registering callbacks...\n",
      "Starting ExplainerDashboard on http://192.168.0.247:8050\n",
      "Dash is running on http://0.0.0.0:8050/\n",
      "\n",
      " * Serving Flask app \"explainerdashboard.dashboards\" (lazy loading)\n",
      " * Environment: production\n",
      "   WARNING: This is a development server. Do not use it in a production deployment.\n",
      "   Use a production WSGI server instead.\n",
      " * Debug mode: off\n"
     ]
    },
    {
     "name": "stderr",
     "output_type": "stream",
     "text": [
      " * Running on http://0.0.0.0:8050/ (Press CTRL+C to quit)\n",
      "192.168.0.247 - - [29/Apr/2021 10:45:36] \"\u001b[37mGET / HTTP/1.1\u001b[0m\" 200 -\n",
      "192.168.0.247 - - [29/Apr/2021 10:45:36] \"\u001b[37mGET /_dash-dependencies HTTP/1.1\u001b[0m\" 200 -\n",
      "192.168.0.247 - - [29/Apr/2021 10:45:36] \"\u001b[37mGET /_dash-layout HTTP/1.1\u001b[0m\" 200 -\n",
      "192.168.0.247 - - [29/Apr/2021 10:45:37] \"\u001b[37mPOST /_dash-update-component HTTP/1.1\u001b[0m\" 200 -\n",
      "192.168.0.247 - - [29/Apr/2021 10:45:37] \"\u001b[37mPOST /_dash-update-component HTTP/1.1\u001b[0m\" 200 -\n",
      "192.168.0.247 - - [29/Apr/2021 10:45:37] \"\u001b[37mPOST /_dash-update-component HTTP/1.1\u001b[0m\" 200 -\n",
      "192.168.0.247 - - [29/Apr/2021 10:45:37] \"\u001b[37mPOST /_dash-update-component HTTP/1.1\u001b[0m\" 200 -\n",
      "192.168.0.247 - - [29/Apr/2021 10:45:37] \"\u001b[37mPOST /_dash-update-component HTTP/1.1\u001b[0m\" 200 -\n",
      "192.168.0.247 - - [29/Apr/2021 10:45:37] \"\u001b[37mPOST /_dash-update-component HTTP/1.1\u001b[0m\" 200 -\n",
      "192.168.0.247 - - [29/Apr/2021 10:45:37] \"\u001b[37mPOST /_dash-update-component HTTP/1.1\u001b[0m\" 200 -\n",
      "192.168.0.247 - - [29/Apr/2021 10:45:37] \"\u001b[37mPOST /_dash-update-component HTTP/1.1\u001b[0m\" 200 -\n",
      "192.168.0.247 - - [29/Apr/2021 10:45:37] \"\u001b[37mPOST /_dash-update-component HTTP/1.1\u001b[0m\" 200 -\n",
      "192.168.0.247 - - [29/Apr/2021 10:45:37] \"\u001b[37mPOST /_dash-update-component HTTP/1.1\u001b[0m\" 200 -\n",
      "192.168.0.247 - - [29/Apr/2021 10:45:37] \"\u001b[37mPOST /_dash-update-component HTTP/1.1\u001b[0m\" 200 -\n",
      "192.168.0.247 - - [29/Apr/2021 10:45:37] \"\u001b[37mPOST /_dash-update-component HTTP/1.1\u001b[0m\" 200 -\n",
      "192.168.0.247 - - [29/Apr/2021 10:45:37] \"\u001b[37mPOST /_dash-update-component HTTP/1.1\u001b[0m\" 200 -\n",
      "192.168.0.247 - - [29/Apr/2021 10:45:37] \"\u001b[37mPOST /_dash-update-component HTTP/1.1\u001b[0m\" 200 -\n",
      "192.168.0.247 - - [29/Apr/2021 10:45:37] \"\u001b[37mPOST /_dash-update-component HTTP/1.1\u001b[0m\" 200 -\n",
      "192.168.0.247 - - [29/Apr/2021 10:45:37] \"\u001b[37mPOST /_dash-update-component HTTP/1.1\u001b[0m\" 204 -\n",
      "192.168.0.247 - - [29/Apr/2021 10:45:37] \"\u001b[37mPOST /_dash-update-component HTTP/1.1\u001b[0m\" 200 -\n",
      "192.168.0.247 - - [29/Apr/2021 10:45:37] \"\u001b[37mPOST /_dash-update-component HTTP/1.1\u001b[0m\" 200 -\n",
      "192.168.0.247 - - [29/Apr/2021 10:45:37] \"\u001b[37mPOST /_dash-update-component HTTP/1.1\u001b[0m\" 200 -\n",
      "192.168.0.247 - - [29/Apr/2021 10:45:37] \"\u001b[37mPOST /_dash-update-component HTTP/1.1\u001b[0m\" 200 -\n",
      "192.168.0.247 - - [29/Apr/2021 10:45:37] \"\u001b[37mPOST /_dash-update-component HTTP/1.1\u001b[0m\" 200 -\n",
      "192.168.0.247 - - [29/Apr/2021 10:45:37] \"\u001b[37mPOST /_dash-update-component HTTP/1.1\u001b[0m\" 200 -\n",
      "192.168.0.247 - - [29/Apr/2021 10:45:37] \"\u001b[37mPOST /_dash-update-component HTTP/1.1\u001b[0m\" 200 -\n",
      "192.168.0.247 - - [29/Apr/2021 10:45:37] \"\u001b[37mPOST /_dash-update-component HTTP/1.1\u001b[0m\" 200 -\n",
      "192.168.0.247 - - [29/Apr/2021 10:45:37] \"\u001b[37mPOST /_dash-update-component HTTP/1.1\u001b[0m\" 200 -\n",
      "192.168.0.247 - - [29/Apr/2021 10:45:38] \"\u001b[37mPOST /_dash-update-component HTTP/1.1\u001b[0m\" 200 -\n",
      "192.168.0.247 - - [29/Apr/2021 10:45:38] \"\u001b[37mPOST /_dash-update-component HTTP/1.1\u001b[0m\" 200 -\n",
      "192.168.0.247 - - [29/Apr/2021 10:45:38] \"\u001b[37mPOST /_dash-update-component HTTP/1.1\u001b[0m\" 200 -\n",
      "192.168.0.247 - - [29/Apr/2021 10:45:38] \"\u001b[37mPOST /_dash-update-component HTTP/1.1\u001b[0m\" 200 -\n",
      "192.168.0.247 - - [29/Apr/2021 10:45:38] \"\u001b[37mPOST /_dash-update-component HTTP/1.1\u001b[0m\" 204 -\n",
      "192.168.0.247 - - [29/Apr/2021 10:45:38] \"\u001b[37mPOST /_dash-update-component HTTP/1.1\u001b[0m\" 204 -\n",
      "192.168.0.247 - - [29/Apr/2021 10:45:38] \"\u001b[37mPOST /_dash-update-component HTTP/1.1\u001b[0m\" 200 -\n",
      "192.168.0.247 - - [29/Apr/2021 10:45:38] \"\u001b[37mPOST /_dash-update-component HTTP/1.1\u001b[0m\" 200 -\n",
      "192.168.0.247 - - [29/Apr/2021 10:45:38] \"\u001b[37mPOST /_dash-update-component HTTP/1.1\u001b[0m\" 200 -\n",
      "192.168.0.247 - - [29/Apr/2021 10:45:38] \"\u001b[37mPOST /_dash-update-component HTTP/1.1\u001b[0m\" 200 -\n",
      "192.168.0.247 - - [29/Apr/2021 10:45:38] \"\u001b[37mPOST /_dash-update-component HTTP/1.1\u001b[0m\" 200 -\n",
      "192.168.0.247 - - [29/Apr/2021 10:45:38] \"\u001b[37mPOST /_dash-update-component HTTP/1.1\u001b[0m\" 200 -\n",
      "192.168.0.247 - - [29/Apr/2021 10:45:38] \"\u001b[37mPOST /_dash-update-component HTTP/1.1\u001b[0m\" 200 -\n",
      "192.168.0.247 - - [29/Apr/2021 10:45:38] \"\u001b[37mPOST /_dash-update-component HTTP/1.1\u001b[0m\" 200 -\n",
      "192.168.0.247 - - [29/Apr/2021 10:45:38] \"\u001b[37mPOST /_dash-update-component HTTP/1.1\u001b[0m\" 200 -\n",
      "192.168.0.247 - - [29/Apr/2021 10:45:38] \"\u001b[37mPOST /_dash-update-component HTTP/1.1\u001b[0m\" 204 -\n",
      "192.168.0.247 - - [29/Apr/2021 10:45:38] \"\u001b[37mPOST /_dash-update-component HTTP/1.1\u001b[0m\" 200 -\n",
      "192.168.0.247 - - [29/Apr/2021 10:45:38] \"\u001b[37mPOST /_dash-update-component HTTP/1.1\u001b[0m\" 200 -\n",
      "192.168.0.247 - - [29/Apr/2021 10:45:38] \"\u001b[37mPOST /_dash-update-component HTTP/1.1\u001b[0m\" 200 -\n",
      "192.168.0.247 - - [29/Apr/2021 10:45:38] \"\u001b[37mPOST /_dash-update-component HTTP/1.1\u001b[0m\" 200 -\n",
      "192.168.0.247 - - [29/Apr/2021 10:45:38] \"\u001b[37mPOST /_dash-update-component HTTP/1.1\u001b[0m\" 200 -\n",
      "192.168.0.247 - - [29/Apr/2021 10:45:38] \"\u001b[37mPOST /_dash-update-component HTTP/1.1\u001b[0m\" 200 -\n",
      "192.168.0.247 - - [29/Apr/2021 10:45:38] \"\u001b[37mPOST /_dash-update-component HTTP/1.1\u001b[0m\" 200 -\n",
      "192.168.0.247 - - [29/Apr/2021 10:45:38] \"\u001b[37mPOST /_dash-update-component HTTP/1.1\u001b[0m\" 200 -\n",
      "192.168.0.247 - - [29/Apr/2021 10:45:39] \"\u001b[37mPOST /_dash-update-component HTTP/1.1\u001b[0m\" 200 -\n",
      "192.168.0.247 - - [29/Apr/2021 10:45:39] \"\u001b[37mPOST /_dash-update-component HTTP/1.1\u001b[0m\" 200 -\n",
      "192.168.0.247 - - [29/Apr/2021 10:45:39] \"\u001b[37mPOST /_dash-update-component HTTP/1.1\u001b[0m\" 200 -\n",
      "192.168.0.247 - - [29/Apr/2021 10:45:39] \"\u001b[37mPOST /_dash-update-component HTTP/1.1\u001b[0m\" 200 -\n",
      "192.168.0.247 - - [29/Apr/2021 10:45:40] \"\u001b[37mPOST /_dash-update-component HTTP/1.1\u001b[0m\" 200 -\n",
      "192.168.0.247 - - [29/Apr/2021 10:45:40] \"\u001b[37mPOST /_dash-update-component HTTP/1.1\u001b[0m\" 200 -\n",
      "192.168.0.247 - - [29/Apr/2021 10:45:40] \"\u001b[37mPOST /_dash-update-component HTTP/1.1\u001b[0m\" 200 -\n",
      "192.168.0.247 - - [29/Apr/2021 10:45:40] \"\u001b[37mPOST /_dash-update-component HTTP/1.1\u001b[0m\" 200 -\n",
      "192.168.0.247 - - [29/Apr/2021 10:45:40] \"\u001b[37mPOST /_dash-update-component HTTP/1.1\u001b[0m\" 200 -\n",
      "192.168.0.247 - - [29/Apr/2021 10:45:40] \"\u001b[37mPOST /_dash-update-component HTTP/1.1\u001b[0m\" 200 -\n",
      "192.168.0.247 - - [29/Apr/2021 10:45:40] \"\u001b[37mPOST /_dash-update-component HTTP/1.1\u001b[0m\" 200 -\n",
      "192.168.0.247 - - [29/Apr/2021 10:45:40] \"\u001b[37mPOST /_dash-update-component HTTP/1.1\u001b[0m\" 200 -\n",
      "192.168.0.247 - - [29/Apr/2021 10:45:40] \"\u001b[37mPOST /_dash-update-component HTTP/1.1\u001b[0m\" 200 -\n",
      "192.168.0.247 - - [29/Apr/2021 10:45:40] \"\u001b[37mPOST /_dash-update-component HTTP/1.1\u001b[0m\" 200 -\n",
      "192.168.0.247 - - [29/Apr/2021 10:45:40] \"\u001b[37mPOST /_dash-update-component HTTP/1.1\u001b[0m\" 200 -\n",
      "192.168.0.247 - - [29/Apr/2021 10:45:40] \"\u001b[37mPOST /_dash-update-component HTTP/1.1\u001b[0m\" 200 -\n",
      "192.168.0.247 - - [29/Apr/2021 10:45:41] \"\u001b[37mPOST /_dash-update-component HTTP/1.1\u001b[0m\" 200 -\n",
      "192.168.0.247 - - [29/Apr/2021 10:45:41] \"\u001b[37mPOST /_dash-update-component HTTP/1.1\u001b[0m\" 200 -\n",
      "192.168.0.247 - - [29/Apr/2021 10:45:41] \"\u001b[37mPOST /_dash-update-component HTTP/1.1\u001b[0m\" 200 -\n",
      "192.168.0.247 - - [29/Apr/2021 10:45:41] \"\u001b[37mPOST /_dash-update-component HTTP/1.1\u001b[0m\" 200 -\n",
      "192.168.0.247 - - [29/Apr/2021 10:45:41] \"\u001b[37mPOST /_dash-update-component HTTP/1.1\u001b[0m\" 200 -\n",
      "192.168.0.247 - - [29/Apr/2021 10:45:41] \"\u001b[37mPOST /_dash-update-component HTTP/1.1\u001b[0m\" 200 -\n",
      "192.168.0.247 - - [29/Apr/2021 10:45:42] \"\u001b[37mPOST /_dash-update-component HTTP/1.1\u001b[0m\" 200 -\n",
      "192.168.0.247 - - [29/Apr/2021 10:45:42] \"\u001b[37mPOST /_dash-update-component HTTP/1.1\u001b[0m\" 200 -\n",
      "192.168.0.247 - - [29/Apr/2021 10:45:42] \"\u001b[37mPOST /_dash-update-component HTTP/1.1\u001b[0m\" 200 -\n"
     ]
    }
   ],
   "source": [
    "ExplainerDashboard(explainer).run()"
   ]
  },
  {
   "cell_type": "code",
   "execution_count": null,
   "id": "6c52957b",
   "metadata": {},
   "outputs": [],
   "source": []
  }
 ],
 "metadata": {
  "kernelspec": {
   "display_name": "Python 3",
   "language": "python",
   "name": "python3"
  },
  "language_info": {
   "codemirror_mode": {
    "name": "ipython",
    "version": 3
   },
   "file_extension": ".py",
   "mimetype": "text/x-python",
   "name": "python",
   "nbconvert_exporter": "python",
   "pygments_lexer": "ipython3",
   "version": "3.7.9"
  }
 },
 "nbformat": 4,
 "nbformat_minor": 5
}
